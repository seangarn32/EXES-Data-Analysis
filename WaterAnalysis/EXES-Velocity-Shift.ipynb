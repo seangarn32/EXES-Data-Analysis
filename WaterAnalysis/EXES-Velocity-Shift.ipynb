{
 "cells": [
  {
   "cell_type": "markdown",
   "id": "edda6f99",
   "metadata": {},
   "source": [
    "EXES: Velocity Calculation\n",
    "================\n",
    "* **Aim**: Estimate velocity shift given the system's heliocentric velocity, date-of-observation, and any additional shift. <br />"
   ]
  },
  {
   "cell_type": "markdown",
   "id": "d7162ec3",
   "metadata": {},
   "source": [
    "## Intro\n",
    "\n",
    "The spectral lines detected by EXES are typically shifted so that they can be observed in the wings of telluric features. To calculate the expected shift in the lines, you have to account for: \n",
    "\n",
    "1. a target's systemic velocity\n",
    "\n",
    "2. the velocity changes depending on the Earth's orbital motion around the Sun (seasonal variations)\n",
    "\n",
    "3. any shifts due to doppler shifted winds (e.g. an expansion velocity)"
   ]
  },
  {
   "cell_type": "markdown",
   "id": "aa9c02b4",
   "metadata": {},
   "source": [
    "## Imports"
   ]
  },
  {
   "cell_type": "code",
   "execution_count": 1,
   "id": "e4d98219",
   "metadata": {
    "execution": {
     "iopub.execute_input": "2022-05-23T16:54:37.579041Z",
     "iopub.status.busy": "2022-05-23T16:54:37.578596Z",
     "iopub.status.idle": "2022-05-23T16:54:37.590540Z",
     "shell.execute_reply": "2022-05-23T16:54:37.590226Z"
    }
   },
   "outputs": [],
   "source": [
    "import astropy.units as u\n",
    "from astropy.time import Time\n",
    "from astropy.coordinates import SkyCoord, EarthLocation, AltAz, GCRS, LSR, FK5"
   ]
  },
  {
   "cell_type": "markdown",
   "id": "1fd46a69",
   "metadata": {},
   "source": [
    "## Inputs"
   ]
  },
  {
   "cell_type": "code",
   "execution_count": 2,
   "id": "3a25a0d2",
   "metadata": {
    "execution": {
     "iopub.execute_input": "2022-05-23T16:54:37.592384Z",
     "iopub.status.busy": "2022-05-23T16:54:37.592261Z",
     "iopub.status.idle": "2022-05-23T16:54:37.631326Z",
     "shell.execute_reply": "2022-05-23T16:54:37.631007Z"
    }
   },
   "outputs": [],
   "source": [
    "#observation_time = Time(\"2021-12-04\")\n",
    "observation_time = Time(\"2022-03-05\")\n",
    "#observation_time = Time(\"2022-03-01\")\n",
    "#observation_time = Time(\"2022-04-27\")\n",
    "v_sys = -5 * u.km / u.s  # km/s systemic velocity\n",
    "observation_location = EarthLocation.of_site(\"Lick Observatory\")  # Doesn't have large impact on values\n",
    "\n",
    "coords = SkyCoord(\"19:41:57.0795884928 +16:44:39.805863828\", unit=(u.hourangle, u.deg))"
   ]
  },
  {
   "cell_type": "code",
   "execution_count": 3,
   "id": "17b2725c",
   "metadata": {
    "execution": {
     "iopub.execute_input": "2022-05-23T16:54:37.633326Z",
     "iopub.status.busy": "2022-05-23T16:54:37.633211Z",
     "iopub.status.idle": "2022-05-23T16:54:38.172363Z",
     "shell.execute_reply": "2022-05-23T16:54:38.172049Z"
    }
   },
   "outputs": [],
   "source": [
    "vgeo = coords.radial_velocity_correction(\n",
    "    kind=\"heliocentric\", obstime=observation_time, location=observation_location\n",
    ").to(u.km / u.s)\n",
    "v_corrected = v_sys - vgeo"
   ]
  },
  {
   "cell_type": "code",
   "execution_count": 4,
   "id": "e9205f98",
   "metadata": {
    "execution": {
     "iopub.execute_input": "2022-05-23T16:54:38.174324Z",
     "iopub.status.busy": "2022-05-23T16:54:38.174202Z",
     "iopub.status.idle": "2022-05-23T16:54:38.197544Z",
     "shell.execute_reply": "2022-05-23T16:54:38.197243Z"
    }
   },
   "outputs": [
    {
     "data": {
      "text/latex": [
       "$-20.615089 \\; \\mathrm{\\frac{km}{s}}$"
      ],
      "text/plain": [
       "<Quantity -20.61508924 km / s>"
      ]
     },
     "execution_count": 4,
     "metadata": {},
     "output_type": "execute_result"
    }
   ],
   "source": [
    "v_corrected"
   ]
  },
  {
   "cell_type": "markdown",
   "id": "d2d5564e",
   "metadata": {},
   "source": [
    "Don't forget to add any additional winds within the system (e.g. expansion velocity). "
   ]
  }
 ],
 "metadata": {
  "interpreter": {
   "hash": "ccf635cf6cf77b09d658aa738852457b7be98c7ee3718664893c4fd8441910db"
  },
  "kernelspec": {
   "display_name": "Python 3.9.12 ('base')",
   "language": "python",
   "name": "python3"
  },
  "language_info": {
   "codemirror_mode": {
    "name": "ipython",
    "version": 3
   },
   "file_extension": ".py",
   "mimetype": "text/x-python",
   "name": "python",
   "nbconvert_exporter": "python",
   "pygments_lexer": "ipython3",
   "version": "3.9.12"
  }
 },
 "nbformat": 4,
 "nbformat_minor": 5
}
